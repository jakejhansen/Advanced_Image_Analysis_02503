{
 "cells": [
  {
   "cell_type": "markdown",
   "metadata": {},
   "source": [
    "# NETWORK FOR COMPETITION: NOTE THAT KERAS IS USED AND IS THUS NOT A VALID ATTEMPT FOR THE COMPETETION\n",
    "Since we have expererience with DL it seemed redundant to do it all from scatch and instead we used the time to get more familiar with DL libraries to get a better practical understanding of developing neural networks. Thus the results in this notebook are not eligble for competetion however they show the strength of leveraging a strong framework"
   ]
  },
  {
   "cell_type": "code",
   "execution_count": 10,
   "metadata": {
    "collapsed": true
   },
   "outputs": [],
   "source": [
    "#Load required packages\n",
    "import numpy as np\n",
    " \n",
    "from keras.models import Sequential\n",
    "from keras.layers import Dense, Dropout, Activation, Flatten\n",
    "from keras.layers import Convolution2D, MaxPooling2D\n",
    "from keras.layers.normalization import BatchNormalization\n",
    "from keras.utils import np_utils\n",
    "from keras.datasets import mnist\n",
    "from keras import backend as K"
   ]
  },
  {
   "cell_type": "code",
   "execution_count": 11,
   "metadata": {
    "collapsed": true
   },
   "outputs": [],
   "source": [
    "#Parameters\n",
    "num_classes = 10\n",
    "opt = \"adam\"\n",
    "loss_f = 'categorical_crossentropy'\n",
    "batch_size = 64\n",
    "nb_epochs = 15"
   ]
  },
  {
   "cell_type": "code",
   "execution_count": 12,
   "metadata": {
    "collapsed": true
   },
   "outputs": [],
   "source": [
    "# Load Data\n",
    "(X_train, y_train), (X_test, y_test) = mnist.load_data()"
   ]
  },
  {
   "cell_type": "code",
   "execution_count": 13,
   "metadata": {},
   "outputs": [
    {
     "name": "stdout",
     "output_type": "stream",
     "text": [
      "(60000, 10)\n",
      "(60000, 28, 28, 1)\n",
      "(10000, 28, 28, 1)\n"
     ]
    }
   ],
   "source": [
    "#Normalize data and turn to categorical\n",
    "\n",
    "X_train = X_train.reshape(X_train.shape[0], 28, 28, 1)\n",
    "X_test = X_test.reshape(X_test.shape[0], 28, 28, 1)\n",
    "\n",
    "X_train = X_train.astype('float')\n",
    "X_test = X_test.astype('float')\n",
    "X_train = X_train / 255\n",
    "X_test = X_test / 255\n",
    "\n",
    "y_train = np_utils.to_categorical(y_train, num_classes)\n",
    "y_test = np_utils.to_categorical(y_test, num_classes)\n",
    "\n",
    "print(y_train.shape)\n",
    "print(X_train.shape)\n",
    "print(X_test.shape)"
   ]
  },
  {
   "cell_type": "code",
   "execution_count": 14,
   "metadata": {},
   "outputs": [
    {
     "data": {
      "image/png": "[encoded data removed]",
      "text/plain": [
       "<matplotlib.figure.Figure at 0x7f6c70458f98>"
      ]
     },
     "metadata": {},
     "output_type": "display_data"
    }
   ],
   "source": [
    "#Augment the input data to get more training data.\n",
    "#Section is inspired by: https://machinelearningmastery.com/image-augmentation-deep-learning-keras/\n",
    "from keras.preprocessing.image import ImageDataGenerator\n",
    "from matplotlib import pyplot\n",
    "\n",
    "datagen = ImageDataGenerator(rotation_range = 20, \n",
    "                             width_shift_range = 0.1,\n",
    "                             height_shift_range = 0.1,\n",
    "                             zoom_range=0.2)\n",
    "\n",
    "datagen.fit(X_train)\n",
    "\n",
    "#Show result\n",
    "for X_batch, y_batch in datagen.flow(X_train, y_train, batch_size=9):\n",
    "    # create a grid of 3x3 images\n",
    "    for i in range(0, 9):\n",
    "        pyplot.subplot(330 + 1 + i)\n",
    "        pyplot.imshow(X_batch[i].reshape(28, 28), cmap=pyplot.get_cmap('gray'))\n",
    "    # show the plot\n",
    "    pyplot.show()\n",
    "    break\n",
    "    \n",
    "train_generator = datagen.flow(X_train, y_train, batch_size = batch_size)\n",
    "\n",
    "#Define validation generator\n",
    "test_gen = ImageDataGenerator()\n",
    "test_generator = test_gen.flow(X_test, y_test, batch_size=batch_size)"
   ]
  },
  {
   "cell_type": "code",
   "execution_count": 15,
   "metadata": {},
   "outputs": [
    {
     "name": "stdout",
     "output_type": "stream",
     "text": [
      "_________________________________________________________________\n",
      "Layer (type)                 Output Shape              Param #   \n",
      "=================================================================\n",
      "conv2d_5 (Conv2D)            (None, 26, 26, 32)        320       \n",
      "_________________________________________________________________\n",
      "batch_normalization_7 (Batch (None, 26, 26, 32)        128       \n",
      "_________________________________________________________________\n",
      "activation_7 (Activation)    (None, 26, 26, 32)        0         \n",
      "_________________________________________________________________\n",
      "conv2d_6 (Conv2D)            (None, 24, 24, 32)        9248      \n",
      "_________________________________________________________________\n",
      "batch_normalization_8 (Batch (None, 24, 24, 32)        128       \n",
      "_________________________________________________________________\n",
      "activation_8 (Activation)    (None, 24, 24, 32)        0         \n",
      "_________________________________________________________________\n",
      "max_pooling2d_3 (MaxPooling2 (None, 12, 12, 32)        0         \n",
      "_________________________________________________________________\n",
      "conv2d_7 (Conv2D)            (None, 10, 10, 64)        18496     \n",
      "_________________________________________________________________\n",
      "batch_normalization_9 (Batch (None, 10, 10, 64)        256       \n",
      "_________________________________________________________________\n",
      "activation_9 (Activation)    (None, 10, 10, 64)        0         \n",
      "_________________________________________________________________\n",
      "conv2d_8 (Conv2D)            (None, 8, 8, 64)          36928     \n",
      "_________________________________________________________________\n",
      "batch_normalization_10 (Batc (None, 8, 8, 64)          256       \n",
      "_________________________________________________________________\n",
      "activation_10 (Activation)   (None, 8, 8, 64)          0         \n",
      "_________________________________________________________________\n",
      "max_pooling2d_4 (MaxPooling2 (None, 4, 4, 64)          0         \n",
      "_________________________________________________________________\n",
      "flatten_2 (Flatten)          (None, 1024)              0         \n",
      "_________________________________________________________________\n",
      "dense_4 (Dense)              (None, 512)               524800    \n",
      "_________________________________________________________________\n",
      "batch_normalization_11 (Batc (None, 512)               2048      \n",
      "_________________________________________________________________\n",
      "activation_11 (Activation)   (None, 512)               0         \n",
      "_________________________________________________________________\n",
      "dropout_3 (Dropout)          (None, 512)               0         \n",
      "_________________________________________________________________\n",
      "dense_5 (Dense)              (None, 256)               131328    \n",
      "_________________________________________________________________\n",
      "batch_normalization_12 (Batc (None, 256)               1024      \n",
      "_________________________________________________________________\n",
      "activation_12 (Activation)   (None, 256)               0         \n",
      "_________________________________________________________________\n",
      "dropout_4 (Dropout)          (None, 256)               0         \n",
      "_________________________________________________________________\n",
      "dense_6 (Dense)              (None, 10)                2570      \n",
      "=================================================================\n",
      "Total params: 727,530\n",
      "Trainable params: 725,610\n",
      "Non-trainable params: 1,920\n",
      "_________________________________________________________________\n",
      "None\n"
     ]
    }
   ],
   "source": [
    "#Define model.\n",
    "#We use two convolutional blocks, which both contains two convolutinal\n",
    "#with maxpooling at the end. Finally put result into a dense layer.\n",
    "model = Sequential()\n",
    "\n",
    "#First conv layer\n",
    "model.add(Convolution2D(32, (3, 3), input_shape = (28,28, 1)))\n",
    "model.add(BatchNormalization(axis=-1))\n",
    "model.add(Activation(\"relu\"))\n",
    "model.add(Convolution2D(32, (3,3)))\n",
    "model.add(BatchNormalization(axis=-1))\n",
    "model.add(Activation(\"relu\"))\n",
    "model.add(MaxPooling2D(pool_size=(2,2)))\n",
    "\n",
    "#Second conv layer\n",
    "model.add(Convolution2D(64, (3, 3)))\n",
    "model.add(BatchNormalization(axis=-1))\n",
    "model.add(Activation(\"relu\"))\n",
    "model.add(Convolution2D(64, (3,3)))\n",
    "model.add(BatchNormalization(axis=-1))\n",
    "model.add(Activation(\"relu\"))\n",
    "model.add(MaxPooling2D(pool_size=(2,2)))\n",
    "\n",
    "\n",
    "\n",
    "#Dense layers\n",
    "model.add(Flatten())\n",
    "model.add(Dense(512))\n",
    "model.add(BatchNormalization())\n",
    "model.add(Activation(\"relu\"))\n",
    "model.add(Dropout(0.2))\n",
    "model.add(Dense(256))\n",
    "model.add(BatchNormalization())\n",
    "model.add(Activation(\"relu\"))\n",
    "model.add(Dropout(0.2))\n",
    "model.add(Dense(10, activation=\"softmax\"))\n",
    "print(model.summary())"
   ]
  },
  {
   "cell_type": "code",
   "execution_count": 16,
   "metadata": {
    "collapsed": true
   },
   "outputs": [],
   "source": [
    "#Compile the model\n",
    "model.compile(loss=loss_f,\n",
    "              optimizer=opt,\n",
    "              metrics=['accuracy'])"
   ]
  },
  {
   "cell_type": "code",
   "execution_count": 18,
   "metadata": {},
   "outputs": [
    {
     "name": "stdout",
     "output_type": "stream",
     "text": [
      "Epoch 1/15\n",
      "467/468 [============================>.] - ETA: 0s - loss: 0.3302 - acc: 0.8970Epoch 00001: val_acc improved from -inf to 0.79960, saving model to weights_CNN.best.hdf5\n",
      "469/468 [==============================] - 14s 29ms/step - loss: 0.3293 - acc: 0.8973 - val_loss: 0.6106 - val_acc: 0.7996\n",
      "Epoch 2/15\n",
      "467/468 [============================>.] - ETA: 0s - loss: 0.1289 - acc: 0.9595Epoch 00002: val_acc improved from 0.79960 to 0.98670, saving model to weights_CNN.best.hdf5\n",
      "469/468 [==============================] - 11s 23ms/step - loss: 0.1292 - acc: 0.9596 - val_loss: 0.0389 - val_acc: 0.9867\n",
      "Epoch 3/15\n",
      "468/468 [============================>.] - ETA: 0s - loss: 0.1020 - acc: 0.9680Epoch 00003: val_acc did not improve\n",
      "469/468 [==============================] - 11s 24ms/step - loss: 0.1019 - acc: 0.9681 - val_loss: 0.0500 - val_acc: 0.9832\n",
      "Epoch 4/15\n",
      "468/468 [============================>.] - ETA: 0s - loss: 0.0899 - acc: 0.9713- ETA: 1s - loss: 0.Epoch 00004: val_acc improved from 0.98670 to 0.99230, saving model to weights_CNN.best.hdf5\n",
      "469/468 [==============================] - 12s 27ms/step - loss: 0.0899 - acc: 0.9713 - val_loss: 0.0262 - val_acc: 0.9923\n",
      "Epoch 5/15\n",
      "467/468 [============================>.] - ETA: 0s - loss: 0.0829 - acc: 0.9739Epoch 00005: val_acc did not improve\n",
      "469/468 [==============================] - 12s 26ms/step - loss: 0.0831 - acc: 0.9739 - val_loss: 0.0520 - val_acc: 0.9825\n",
      "Epoch 6/15\n",
      "466/468 [============================>.] - ETA: 0s - loss: 0.0829 - acc: 0.9744Epoch 00006: val_acc did not improve\n",
      "469/468 [==============================] - 13s 28ms/step - loss: 0.0829 - acc: 0.9744 - val_loss: 0.0338 - val_acc: 0.9894\n",
      "Epoch 7/15\n",
      "467/468 [============================>.] - ETA: 0s - loss: 0.0739 - acc: 0.9782Epoch 00007: val_acc did not improve\n",
      "469/468 [==============================] - 12s 26ms/step - loss: 0.0736 - acc: 0.9782 - val_loss: 0.0330 - val_acc: 0.9891\n",
      "Epoch 8/15\n",
      "466/468 [============================>.] - ETA: 0s - loss: 0.0722 - acc: 0.9777Epoch 00008: val_acc improved from 0.99230 to 0.99280, saving model to weights_CNN.best.hdf5\n",
      "469/468 [==============================] - 12s 25ms/step - loss: 0.0725 - acc: 0.9777 - val_loss: 0.0223 - val_acc: 0.9928\n",
      "Epoch 9/15\n",
      "467/468 [============================>.] - ETA: 0s - loss: 0.0661 - acc: 0.9804Epoch 00009: val_acc did not improve\n",
      "469/468 [==============================] - 11s 24ms/step - loss: 0.0664 - acc: 0.9804 - val_loss: 0.0367 - val_acc: 0.9888\n",
      "Epoch 10/15\n",
      "467/468 [============================>.] - ETA: 0s - loss: 0.0644 - acc: 0.9809Epoch 00010: val_acc improved from 0.99280 to 0.99330, saving model to weights_CNN.best.hdf5\n",
      "469/468 [==============================] - 12s 25ms/step - loss: 0.0642 - acc: 0.9810 - val_loss: 0.0197 - val_acc: 0.9933\n",
      "Epoch 11/15\n",
      "466/468 [============================>.] - ETA: 0s - loss: 0.0627 - acc: 0.9811Epoch 00011: val_acc did not improve\n",
      "469/468 [==============================] - 11s 24ms/step - loss: 0.0625 - acc: 0.9812 - val_loss: 0.0251 - val_acc: 0.9914\n",
      "Epoch 12/15\n",
      "468/468 [============================>.] - ETA: 0s - loss: 0.0610 - acc: 0.9808- ETA: 1s - Epoch 00012: val_acc did not improve\n",
      "469/468 [==============================] - 11s 24ms/step - loss: 0.0610 - acc: 0.9808 - val_loss: 0.0225 - val_acc: 0.9927\n",
      "Epoch 13/15\n",
      "468/468 [============================>.] - ETA: 0s - loss: 0.0585 - acc: 0.9819Epoch 00013: val_acc improved from 0.99330 to 0.99380, saving model to weights_CNN.best.hdf5\n",
      "469/468 [==============================] - 11s 25ms/step - loss: 0.0584 - acc: 0.9820 - val_loss: 0.0181 - val_acc: 0.9938\n",
      "Epoch 14/15\n",
      "467/468 [============================>.] - ETA: 0s - loss: 0.0604 - acc: 0.9811Epoch 00014: val_acc improved from 0.99380 to 0.99410, saving model to weights_CNN.best.hdf5\n",
      "469/468 [==============================] - 12s 25ms/step - loss: 0.0603 - acc: 0.9811 - val_loss: 0.0200 - val_acc: 0.9941\n",
      "Epoch 15/15\n",
      "468/468 [============================>.] - ETA: 0s - loss: 0.0517 - acc: 0.9836Epoch 00015: val_acc did not improve\n",
      "469/468 [==============================] - 11s 24ms/step - loss: 0.0516 - acc: 0.9836 - val_loss: 0.0241 - val_acc: 0.9924\n"
     ]
    },
    {
     "data": {
      "text/plain": [
       "<keras.callbacks.History at 0x7f6cb9dc2ba8>"
      ]
     },
     "execution_count": 18,
     "metadata": {},
     "output_type": "execute_result"
    }
   ],
   "source": [
    "#Save best model under training\n",
    "from keras.callbacks import ModelCheckpoint\n",
    "filepath=\"weights_CNN.best.hdf5\"\n",
    "checkpoint = ModelCheckpoint(filepath, monitor='val_acc', verbose=1, save_best_only=True, mode='max')\n",
    "callbacks_list = [checkpoint]\n",
    "\n",
    "\n",
    "#Fit the model\n",
    "model.fit_generator(train_generator, \n",
    "                    steps_per_epoch = len(X_train) / (2*batch_size),\n",
    "                    epochs = nb_epochs,\n",
    "                    validation_data = test_generator,\n",
    "                    validation_steps = len(y_test)/ batch_size,\n",
    "                    callbacks = callbacks_list)"
   ]
  },
  {
   "cell_type": "code",
   "execution_count": 20,
   "metadata": {},
   "outputs": [
    {
     "name": "stdout",
     "output_type": "stream",
     "text": [
      "0.9941\n"
     ]
    }
   ],
   "source": [
    "#Evaluate performance of model\n",
    "model.load_weights(\"weights_CNN.best.hdf5\")\n",
    "#Compile the model\n",
    "model.compile(loss=loss_f,\n",
    "              optimizer=opt,\n",
    "              metrics=['accuracy'])\n",
    "\n",
    "score = model.evaluate(X_test, y_test, verbose=0)\n",
    "print(score[1])"
   ]
  }
 ],
 "metadata": {
  "kernelspec": {
   "display_name": "Python 3",
   "language": "python",
   "name": "python3"
  },
  "language_info": {
   "codemirror_mode": {
    "name": "ipython",
    "version": 3
   },
   "file_extension": ".py",
   "mimetype": "text/x-python",
   "name": "python",
   "nbconvert_exporter": "python",
   "pygments_lexer": "ipython3",
   "version": "3.5.2"
  }
 },
 "nbformat": 4,
 "nbformat_minor": 2
}
