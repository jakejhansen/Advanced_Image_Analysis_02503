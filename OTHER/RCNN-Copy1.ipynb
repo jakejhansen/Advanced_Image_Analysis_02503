{
 "cells": [
  {
   "cell_type": "markdown",
   "metadata": {},
   "source": [
    "# NETWORK FOR COMPETITION: NOTE THAT KERAS IS USED AND IS THUS NOT A VALID ATTEMPT FOR THE COMPETETION\n",
    "Since we have expererience with DL it seemed redundant to do it all from scatch and instead we used the time to get more familiar with DL libraries to get a better practical understanding of developing neural networks. Thus the results in this notebook are not eligble for competetion however they show the strength of leveraging a strong framework"
   ]
  },
  {
   "cell_type": "code",
   "execution_count": 23,
   "metadata": {
    "collapsed": true
   },
   "outputs": [],
   "source": [
    "#Load required packages\n",
    "import numpy as np\n",
    " \n",
    "from keras.models import Sequential\n",
    "from keras.layers import Dense, Dropout, Activation, Flatten\n",
    "from keras.layers import Convolution2D, MaxPooling2D\n",
    "from keras.layers.normalization import BatchNormalization\n",
    "from keras.utils import np_utils\n",
    "from keras.datasets import mnist\n",
    "from keras import backend as K\n",
    "\n",
    "import warnings\n",
    "warnings.filterwarnings('ignore')"
   ]
  },
  {
   "cell_type": "code",
   "execution_count": 24,
   "metadata": {
    "collapsed": true
   },
   "outputs": [],
   "source": [
    "#Parameters\n",
    "num_classes = 10\n",
    "opt = \"adam\"\n",
    "loss_f = 'categorical_crossentropy'\n",
    "batch_size = 64\n",
    "nb_epochs = 10"
   ]
  },
  {
   "cell_type": "code",
   "execution_count": 25,
   "metadata": {
    "collapsed": true
   },
   "outputs": [],
   "source": [
    "# Load Data\n",
    "(X_train, y_train), (X_test, y_test) = mnist.load_data()"
   ]
  },
  {
   "cell_type": "code",
   "execution_count": 26,
   "metadata": {},
   "outputs": [
    {
     "name": "stdout",
     "output_type": "stream",
     "text": [
      "(60000, 10)\n",
      "(60000, 28, 28, 1)\n",
      "(10000, 28, 28, 1)\n"
     ]
    }
   ],
   "source": [
    "#Normalize data and turn to categorical\n",
    "\n",
    "X_train = X_train.reshape(X_train.shape[0], 28, 28, 1)\n",
    "X_test = X_test.reshape(X_test.shape[0], 28, 28, 1)\n",
    "\n",
    "X_train = X_train.astype('float')\n",
    "X_test = X_test.astype('float')\n",
    "X_train = X_train / 255\n",
    "X_test = X_test / 255\n",
    "\n",
    "y_train = np_utils.to_categorical(y_train, num_classes)\n",
    "y_test = np_utils.to_categorical(y_test, num_classes)\n",
    "\n",
    "print(y_train.shape)\n",
    "print(X_train.shape)\n",
    "print(X_test.shape)"
   ]
  },
  {
   "cell_type": "code",
   "execution_count": 27,
   "metadata": {},
   "outputs": [
    {
     "data": {
      "image/png": "[encoded data removed]",
      "text/plain": [
       "<matplotlib.figure.Figure at 0x7fcc49fc88d0>"
      ]
     },
     "metadata": {},
     "output_type": "display_data"
    }
   ],
   "source": [
    "#Augment the input data to get more training data.\n",
    "#Section is inspired by: https://machinelearningmastery.com/image-augmentation-deep-learning-keras/\n",
    "from keras.preprocessing.image import ImageDataGenerator\n",
    "from matplotlib import pyplot\n",
    "\n",
    "datagen = ImageDataGenerator(rotation_range = 10, \n",
    "                             width_shift_range = 0.1,\n",
    "                             height_shift_range = 0.1,\n",
    "                             zoom_range = 0.1)\n",
    "\n",
    "datagen.fit(X_train)\n",
    "\n",
    "#Show result\n",
    "for X_batch, y_batch in datagen.flow(X_train, y_train, batch_size=9):\n",
    "    # create a grid of 3x3 images\n",
    "    for i in range(0, 9):\n",
    "        pyplot.subplot(330 + 1 + i)\n",
    "        pyplot.imshow(X_batch[i].reshape(28, 28), cmap=pyplot.get_cmap('gray'))\n",
    "    # show the plot\n",
    "    pyplot.show()\n",
    "    break\n",
    "    \n",
    "train_generator = datagen.flow(X_train, y_train, batch_size = batch_size)\n",
    "\n",
    "#Define validation generator\n",
    "test_gen = ImageDataGenerator()\n",
    "test_generator = test_gen.flow(X_test, y_test, batch_size=batch_size)"
   ]
  },
  {
   "cell_type": "code",
   "execution_count": 28,
   "metadata": {},
   "outputs": [
    {
     "name": "stdout",
     "output_type": "stream",
     "text": [
      "__________________________________________________________________________________________________\n",
      "Layer (type)                    Output Shape         Param #     Connected to                     \n",
      "==================================================================================================\n",
      "input_3 (InputLayer)            (None, 28, 28, 1)    0                                            \n",
      "__________________________________________________________________________________________________\n",
      "conv2d_43 (Conv2D)              (None, 28, 28, 64)   640         input_3[0][0]                    \n",
      "__________________________________________________________________________________________________\n",
      "conv2d_44 (Conv2D)              (None, 28, 28, 28)   1820        conv2d_43[0][0]                  \n",
      "__________________________________________________________________________________________________\n",
      "batch_normalization_41 (BatchNo (None, 28, 28, 28)   112         conv2d_44[0][0]                  \n",
      "__________________________________________________________________________________________________\n",
      "p_re_lu_41 (PReLU)              (None, 28, 28, 28)   21952       batch_normalization_41[0][0]     \n",
      "__________________________________________________________________________________________________\n",
      "conv2d_45 (Conv2D)              (None, 28, 28, 28)   7084        p_re_lu_41[0][0]                 \n",
      "__________________________________________________________________________________________________\n",
      "merge_31 (Merge)                (None, 28, 28, 28)   0           conv2d_44[0][0]                  \n",
      "                                                                 conv2d_45[0][0]                  \n",
      "__________________________________________________________________________________________________\n",
      "batch_normalization_42 (BatchNo (None, 28, 28, 28)   112         merge_31[0][0]                   \n",
      "__________________________________________________________________________________________________\n",
      "p_re_lu_42 (PReLU)              (None, 28, 28, 28)   21952       batch_normalization_42[0][0]     \n",
      "__________________________________________________________________________________________________\n",
      "conv2d_46 (Conv2D)              (None, 28, 28, 28)   7084        p_re_lu_42[0][0]                 \n",
      "__________________________________________________________________________________________________\n",
      "merge_32 (Merge)                (None, 28, 28, 28)   0           conv2d_44[0][0]                  \n",
      "                                                                 conv2d_46[0][0]                  \n",
      "__________________________________________________________________________________________________\n",
      "batch_normalization_43 (BatchNo (None, 28, 28, 28)   112         merge_32[0][0]                   \n",
      "__________________________________________________________________________________________________\n",
      "p_re_lu_43 (PReLU)              (None, 28, 28, 28)   21952       batch_normalization_43[0][0]     \n",
      "__________________________________________________________________________________________________\n",
      "conv2d_47 (Conv2D)              (None, 28, 28, 28)   7084        p_re_lu_43[0][0]                 \n",
      "__________________________________________________________________________________________________\n",
      "merge_33 (Merge)                (None, 28, 28, 28)   0           conv2d_44[0][0]                  \n",
      "                                                                 conv2d_47[0][0]                  \n",
      "__________________________________________________________________________________________________\n",
      "batch_normalization_44 (BatchNo (None, 28, 28, 28)   112         merge_33[0][0]                   \n",
      "__________________________________________________________________________________________________\n",
      "p_re_lu_44 (PReLU)              (None, 28, 28, 28)   21952       batch_normalization_44[0][0]     \n",
      "__________________________________________________________________________________________________\n",
      "dropout_11 (Dropout)            (None, 28, 28, 28)   0           p_re_lu_44[0][0]                 \n",
      "__________________________________________________________________________________________________\n",
      "conv2d_48 (Conv2D)              (None, 28, 28, 28)   812         dropout_11[0][0]                 \n",
      "__________________________________________________________________________________________________\n",
      "batch_normalization_45 (BatchNo (None, 28, 28, 28)   112         conv2d_48[0][0]                  \n",
      "__________________________________________________________________________________________________\n",
      "p_re_lu_45 (PReLU)              (None, 28, 28, 28)   21952       batch_normalization_45[0][0]     \n",
      "__________________________________________________________________________________________________\n",
      "conv2d_49 (Conv2D)              (None, 28, 28, 28)   7084        p_re_lu_45[0][0]                 \n",
      "__________________________________________________________________________________________________\n",
      "merge_34 (Merge)                (None, 28, 28, 28)   0           conv2d_48[0][0]                  \n",
      "                                                                 conv2d_49[0][0]                  \n",
      "__________________________________________________________________________________________________\n",
      "batch_normalization_46 (BatchNo (None, 28, 28, 28)   112         merge_34[0][0]                   \n",
      "__________________________________________________________________________________________________\n",
      "p_re_lu_46 (PReLU)              (None, 28, 28, 28)   21952       batch_normalization_46[0][0]     \n",
      "__________________________________________________________________________________________________\n",
      "conv2d_50 (Conv2D)              (None, 28, 28, 28)   7084        p_re_lu_46[0][0]                 \n",
      "__________________________________________________________________________________________________\n",
      "merge_35 (Merge)                (None, 28, 28, 28)   0           conv2d_48[0][0]                  \n",
      "                                                                 conv2d_50[0][0]                  \n",
      "__________________________________________________________________________________________________\n",
      "batch_normalization_47 (BatchNo (None, 28, 28, 28)   112         merge_35[0][0]                   \n",
      "__________________________________________________________________________________________________\n",
      "p_re_lu_47 (PReLU)              (None, 28, 28, 28)   21952       batch_normalization_47[0][0]     \n",
      "__________________________________________________________________________________________________\n",
      "conv2d_51 (Conv2D)              (None, 28, 28, 28)   7084        p_re_lu_47[0][0]                 \n",
      "__________________________________________________________________________________________________\n",
      "merge_36 (Merge)                (None, 28, 28, 28)   0           conv2d_48[0][0]                  \n",
      "                                                                 conv2d_51[0][0]                  \n",
      "__________________________________________________________________________________________________\n",
      "batch_normalization_48 (BatchNo (None, 28, 28, 28)   112         merge_36[0][0]                   \n",
      "__________________________________________________________________________________________________\n",
      "p_re_lu_48 (PReLU)              (None, 28, 28, 28)   21952       batch_normalization_48[0][0]     \n",
      "__________________________________________________________________________________________________\n",
      "max_pooling2d_5 (MaxPooling2D)  (None, 14, 14, 28)   0           p_re_lu_48[0][0]                 \n",
      "__________________________________________________________________________________________________\n",
      "dropout_12 (Dropout)            (None, 14, 14, 28)   0           max_pooling2d_5[0][0]            \n",
      "__________________________________________________________________________________________________\n",
      "conv2d_52 (Conv2D)              (None, 14, 14, 28)   812         dropout_12[0][0]                 \n",
      "__________________________________________________________________________________________________\n",
      "batch_normalization_49 (BatchNo (None, 14, 14, 28)   112         conv2d_52[0][0]                  \n",
      "__________________________________________________________________________________________________\n",
      "p_re_lu_49 (PReLU)              (None, 14, 14, 28)   5488        batch_normalization_49[0][0]     \n",
      "__________________________________________________________________________________________________\n",
      "conv2d_53 (Conv2D)              (None, 14, 14, 28)   7084        p_re_lu_49[0][0]                 \n",
      "__________________________________________________________________________________________________\n",
      "merge_37 (Merge)                (None, 14, 14, 28)   0           conv2d_52[0][0]                  \n",
      "                                                                 conv2d_53[0][0]                  \n",
      "__________________________________________________________________________________________________\n",
      "batch_normalization_50 (BatchNo (None, 14, 14, 28)   112         merge_37[0][0]                   \n",
      "__________________________________________________________________________________________________\n",
      "p_re_lu_50 (PReLU)              (None, 14, 14, 28)   5488        batch_normalization_50[0][0]     \n",
      "__________________________________________________________________________________________________\n",
      "conv2d_54 (Conv2D)              (None, 14, 14, 28)   7084        p_re_lu_50[0][0]                 \n",
      "__________________________________________________________________________________________________\n",
      "merge_38 (Merge)                (None, 14, 14, 28)   0           conv2d_52[0][0]                  \n",
      "                                                                 conv2d_54[0][0]                  \n",
      "__________________________________________________________________________________________________\n",
      "batch_normalization_51 (BatchNo (None, 14, 14, 28)   112         merge_38[0][0]                   \n",
      "__________________________________________________________________________________________________\n",
      "p_re_lu_51 (PReLU)              (None, 14, 14, 28)   5488        batch_normalization_51[0][0]     \n",
      "__________________________________________________________________________________________________\n",
      "conv2d_55 (Conv2D)              (None, 14, 14, 28)   7084        p_re_lu_51[0][0]                 \n",
      "__________________________________________________________________________________________________\n",
      "merge_39 (Merge)                (None, 14, 14, 28)   0           conv2d_52[0][0]                  \n",
      "                                                                 conv2d_55[0][0]                  \n",
      "__________________________________________________________________________________________________\n",
      "batch_normalization_52 (BatchNo (None, 14, 14, 28)   112         merge_39[0][0]                   \n",
      "__________________________________________________________________________________________________\n",
      "p_re_lu_52 (PReLU)              (None, 14, 14, 28)   5488        batch_normalization_52[0][0]     \n",
      "__________________________________________________________________________________________________\n",
      "dropout_13 (Dropout)            (None, 14, 14, 28)   0           p_re_lu_52[0][0]                 \n",
      "__________________________________________________________________________________________________\n",
      "flatten_3 (Flatten)             (None, 5488)         0           dropout_13[0][0]                 \n",
      "__________________________________________________________________________________________________\n",
      "dense_3 (Dense)                 (None, 10)           54890       flatten_3[0][0]                  \n",
      "==================================================================================================\n",
      "Total params: 321,642\n",
      "Trainable params: 320,970\n",
      "Non-trainable params: 672\n",
      "__________________________________________________________________________________________________\n",
      "None\n"
     ]
    }
   ],
   "source": [
    "#Define model.\n",
    "#We use two convolutional blocks, which both contains two convolutinal\n",
    "#with maxpooling at the end. Finally put result into a dense layer.\n",
    "from Keras_RCNN import BuildRCNN\n",
    "\n",
    "model = BuildRCNN(1, 28, 28, nbClasses=num_classes, nbRCL=3, nbFilters=64, filtersize= 3)\n",
    "\n",
    "print(model.summary())"
   ]
  },
  {
   "cell_type": "code",
   "execution_count": 29,
   "metadata": {
    "collapsed": true
   },
   "outputs": [],
   "source": [
    "#Compile the model\n",
    "model.compile(loss=loss_f,\n",
    "              optimizer=opt,\n",
    "              metrics=['accuracy'])"
   ]
  },
  {
   "cell_type": "code",
   "execution_count": 32,
   "metadata": {},
   "outputs": [
    {
     "name": "stdout",
     "output_type": "stream",
     "text": [
      "Epoch 1/10\n",
      "937/937 [============================>.] - ETA: 0s - loss: 0.0778 - acc: 0.9767Epoch 00001: val_acc improved from -inf to 0.98880, saving model to weights.best.hdf5\n",
      "938/937 [==============================] - 47s 50ms/step - loss: 0.0779 - acc: 0.9767 - val_loss: 0.0353 - val_acc: 0.9888\n",
      "Epoch 2/10\n",
      "936/937 [============================>.] - ETA: 0s - loss: 0.0650 - acc: 0.9806Epoch 00002: val_acc improved from 0.98880 to 0.99070, saving model to weights.best.hdf5\n",
      "938/937 [==============================] - 47s 50ms/step - loss: 0.0650 - acc: 0.9806 - val_loss: 0.0273 - val_acc: 0.9907\n",
      "Epoch 3/10\n",
      "936/937 [============================>.] - ETA: 0s - loss: 0.0578 - acc: 0.9824Epoch 00003: val_acc did not improve\n",
      "938/937 [==============================] - 48s 51ms/step - loss: 0.0579 - acc: 0.9824 - val_loss: 0.0377 - val_acc: 0.9873\n",
      "Epoch 4/10\n",
      "936/937 [============================>.] - ETA: 0s - loss: 0.0521 - acc: 0.9841- ETA: 1s - loss: 0.0Epoch 00004: val_acc improved from 0.99070 to 0.99130, saving model to weights.best.hdf5\n",
      "938/937 [==============================] - 48s 51ms/step - loss: 0.0521 - acc: 0.9842 - val_loss: 0.0261 - val_acc: 0.9913\n",
      "Epoch 5/10\n",
      "937/937 [============================>.] - ETA: 0s - loss: 0.0498 - acc: 0.9844Epoch 00005: val_acc did not improve\n",
      "938/937 [==============================] - 48s 51ms/step - loss: 0.0497 - acc: 0.9844 - val_loss: 0.0311 - val_acc: 0.9887\n",
      "Epoch 6/10\n",
      "937/937 [============================>.] - ETA: 0s - loss: 0.0457 - acc: 0.9856Epoch 00006: val_acc did not improve\n",
      "938/937 [==============================] - 48s 52ms/step - loss: 0.0457 - acc: 0.9856 - val_loss: 0.0327 - val_acc: 0.9892\n",
      "Epoch 7/10\n",
      "937/937 [============================>.] - ETA: 0s - loss: 0.0433 - acc: 0.9862Epoch 00007: val_acc improved from 0.99130 to 0.99300, saving model to weights.best.hdf5\n",
      "938/937 [==============================] - 48s 51ms/step - loss: 0.0433 - acc: 0.9862 - val_loss: 0.0196 - val_acc: 0.9930\n",
      "Epoch 8/10\n",
      "937/937 [============================>.] - ETA: 0s - loss: 0.0407 - acc: 0.9873Epoch 00008: val_acc improved from 0.99300 to 0.99330, saving model to weights.best.hdf5\n",
      "938/937 [==============================] - 48s 51ms/step - loss: 0.0408 - acc: 0.9873 - val_loss: 0.0222 - val_acc: 0.9933\n",
      "Epoch 9/10\n",
      "936/937 [============================>.] - ETA: 0s - loss: 0.0380 - acc: 0.9883Epoch 00009: val_acc did not improve\n",
      "938/937 [==============================] - 49s 52ms/step - loss: 0.0381 - acc: 0.9883 - val_loss: 0.0463 - val_acc: 0.9849\n",
      "Epoch 10/10\n",
      "936/937 [============================>.] - ETA: 0s - loss: 0.0395 - acc: 0.9878Epoch 00010: val_acc did not improve\n",
      "938/937 [==============================] - 48s 51ms/step - loss: 0.0394 - acc: 0.9878 - val_loss: 0.0206 - val_acc: 0.9930\n"
     ]
    },
    {
     "data": {
      "text/plain": [
       "'\\nmodel.fit(x=X_train, y=y_train, batch_size = batch_size, \\n          epochs=nb_epochs, validation_data= (X_test, y_test))\\n'"
      ]
     },
     "execution_count": 32,
     "metadata": {},
     "output_type": "execute_result"
    }
   ],
   "source": [
    "#Save best model\n",
    "from keras.callbacks import ModelCheckpoint\n",
    "filepath=\"weights.best.hdf5\"\n",
    "checkpoint = ModelCheckpoint(filepath, monitor='val_acc', verbose=1, save_best_only=True, mode='max')\n",
    "callbacks_list = [checkpoint]\n",
    "\n",
    "#Fit Model\n",
    "model.fit_generator(train_generator, \n",
    "                    steps_per_epoch = len(X_train) / batch_size,\n",
    "                    epochs = nb_epochs,\n",
    "                    validation_data = test_generator,\n",
    "                    validation_steps = len(y_test)/ batch_size,\n",
    "                    callbacks = callbacks_list)\n",
    "\n",
    "\"\"\"\n",
    "model.fit(x=X_train, y=y_train, batch_size = batch_size, \n",
    "          epochs=nb_epochs, validation_data= (X_test, y_test))\n",
    "\"\"\""
   ]
  },
  {
   "cell_type": "code",
   "execution_count": 33,
   "metadata": {},
   "outputs": [
    {
     "name": "stdout",
     "output_type": "stream",
     "text": [
      "0.9933\n"
     ]
    }
   ],
   "source": [
    "#Evaluate performance of model\n",
    "model.load_weights(\"weights.best.hdf5\")\n",
    "#Compile the model\n",
    "model.compile(loss=loss_f,\n",
    "              optimizer=opt,\n",
    "              metrics=['accuracy'])\n",
    "\n",
    "score = model.evaluate(X_test, y_test, verbose=0)\n",
    "print(score[1])"
   ]
  },
  {
   "cell_type": "code",
   "execution_count": null,
   "metadata": {
    "collapsed": true
   },
   "outputs": [],
   "source": []
  }
 ],
 "metadata": {
  "kernelspec": {
   "display_name": "Python 3",
   "language": "python",
   "name": "python3"
  },
  "language_info": {
   "codemirror_mode": {
    "name": "ipython",
    "version": 3
   },
   "file_extension": ".py",
   "mimetype": "text/x-python",
   "name": "python",
   "nbconvert_exporter": "python",
   "pygments_lexer": "ipython3",
   "version": "3.6.3"
  }
 },
 "nbformat": 4,
 "nbformat_minor": 2
}
